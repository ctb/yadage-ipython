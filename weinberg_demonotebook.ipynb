{
 "cells": [
  {
   "cell_type": "markdown",
   "metadata": {},
   "source": [
    "# Reproducible Declarative DAG workflows in Jupyter Notebooks"
   ]
  },
  {
   "cell_type": "markdown",
   "metadata": {},
   "source": [
    "This notebook demonstrates how one can use [yadage](https://github.com/lukasheinrich/yadage) in Jupyter notebooks to re-use previously defined (possibly by a third party) to run scientific workflows. By referencing docker images, the workflow authors uniquely specify the one (or more) sofware environment in which the individual pieces of the workflows must be executed.\n",
    "\n",
    "The execution of the workflow can be launches and monitored from within this Jupyter notebook. The docker image running this jupyter server (lukasheinrich/yadageipython), does not need to include any of the software used in the workflows, but rather acts as an orchestrator, user interface. It also comes with standard python based analysis tools (numpy, matplotlib, scipy) in order to further analyze the data fragments produced by the workflows within the context of the notebook\n"
   ]
  },
  {
   "cell_type": "markdown",
   "metadata": {},
   "source": [
    "\n",
    "## Preparation\n",
    "\n",
    "First off we load a JavaScript extension for yadage widget, so that we can track workflow progress visually"
   ]
  },
  {
   "cell_type": "code",
   "execution_count": 1,
   "metadata": {
    "collapsed": false
   },
   "outputs": [
    {
     "data": {
      "application/javascript": [
       "require.config({paths: {\n",
       "        vis: \"http://cdnjs.cloudflare.com/ajax/libs/vis/4.17.0/vis\",\n",
       "        yadage: \"https://rawgit.com/lukasheinrich/yadage-ipython/master/yadagealpha\"\n",
       "    }\n",
       "});"
      ],
      "text/plain": [
       "<IPython.core.display.Javascript object>"
      ]
     },
     "metadata": {},
     "output_type": "display_data"
    }
   ],
   "source": [
    "%%javascript\n",
    "require.config({paths: {\n",
    "        vis: \"http://cdnjs.cloudflare.com/ajax/libs/vis/4.17.0/vis\",\n",
    "        yadage: \"https://rawgit.com/lukasheinrich/yadage-ipython/master/yadagealpha\"\n",
    "    }\n",
    "});"
   ]
  },
  {
   "cell_type": "markdown",
   "metadata": {},
   "source": [
    "On the python side, we start with some basic imports that allow us to load the workflow and prepare our work directory"
   ]
  },
  {
   "cell_type": "code",
   "execution_count": 2,
   "metadata": {
    "collapsed": true
   },
   "outputs": [],
   "source": [
    "import os\n",
    "import shutil\n",
    "from packtivity.statecontexts import poxisfs_context as statecontext\n",
    "from yadage.yadagemodels import YadageWorkflow\n",
    "from yadage.workflow_loader import workflow\n",
    "from yadage.clihelpers import setupbackend_fromstring, prepare_workdir_from_archive\n",
    "import logging\n",
    "logging.basicConfig()"
   ]
  },
  {
   "cell_type": "markdown",
   "metadata": {},
   "source": [
    "First, we clean up any residues of previous runs and download some required input data for the workflow (in this case a number of text files) from a public repository"
   ]
  },
  {
   "cell_type": "code",
   "execution_count": 3,
   "metadata": {
    "collapsed": false
   },
   "outputs": [],
   "source": [
    "repolocation = 'https://raw.githubusercontent.com/lukasheinrich/weinberg-exp/master/example_yadage'\n",
    "\n",
    "workdir = 'fromipython'\n",
    "try:\n",
    "    shutil.rmtree(workdir)\n",
    "except OSError:\n",
    "    pass\n",
    "finally:\n",
    "    prepare_workdir_from_archive(\n",
    "        workdir,\n",
    "        '{}/input.zip'.format(repolocation)\n",
    "    )"
   ]
  },
  {
   "cell_type": "markdown",
   "metadata": {},
   "source": [
    "Second, we load a workflow definition from the repo:\n",
    "    \n",
    "The workflow is described using YAML/JSON files that specify the necessary software environment, commands and relationship between individual stages of the workflow:\n",
    "\n",
    "[Click here to see e.g. the step definitions](https://github.com/lukasheinrich/weinberg-exp/blob/master/example_yadage/steps.yml)"
   ]
  },
  {
   "cell_type": "markdown",
   "metadata": {},
   "source": [
    "## Simulating high-energy particle collisions using Monte Carlo generators\n",
    "\n",
    "The workflow will generate proton proton collisions using domain-specific software from the high-energy physics community using a number or parallel threads and later convert them into a JSONLines file. There are a number of user-controllable parameters that are passed to the workflow. In this case\n",
    "\n",
    "* the number of events to generate\n",
    "* the random number seeds:\n",
    "* the beam energy and polarization"
   ]
  },
  {
   "cell_type": "code",
   "execution_count": 4,
   "metadata": {
    "collapsed": false
   },
   "outputs": [],
   "source": [
    "#load the JSON wflow spec\n",
    "wflowspec = workflow('rootflow.yml',repolocation) \n",
    "\n",
    "\n",
    "#define root workdirectory in which data fragements will end up \n",
    "rootcontext = statecontext.make_new_context(workdir)  \n",
    "\n",
    "#finally create a workflow object\n",
    "wflow = YadageWorkflow.createFromJSON(wflowspec,rootcontext)\n",
    "\n",
    "\n",
    "#initialize workflow with parameters\n",
    "wflow.view().init({\n",
    "        'nevents':10000,\n",
    "        'seeds':[1,2,3],\n",
    "        'runcardtempl':'{}/init/run_card.templ'.format(os.path.realpath(workdir)),\n",
    "        'proccardtempl':'{}/init/sm_proc_card.templ'.format(os.path.realpath(workdir)),\n",
    "        'sqrtshalf':45,\n",
    "        'polbeam1':0,\n",
    "        'polbeam2':0\n",
    "})\n",
    "\n",
    "#set up a backend that we will use\n",
    "backend = setupbackend_fromstring('multiproc:4') #options are: multiprocessing pool, ipython cluster, celery cluster"
   ]
  },
  {
   "cell_type": "markdown",
   "metadata": {},
   "source": [
    "### Backend options:\n",
    "\n",
    "Yadage curently supports a number of different backends that allow it to distribute the workflow of the workflow across multiple cores or even multiple servers/worker nodes\n",
    "\n",
    "* **Multiprocessing** Pool (default)\n",
    "* **IPython cluster** (make sure to start a cluster either via the browser or by executing the ipcluster command in a separate shell session)\n",
    "* **Celery cluster** (this needs a more complicated setup including a message broker such as Redis and separate celery worker processes)"
   ]
  },
  {
   "cell_type": "markdown",
   "metadata": {},
   "source": [
    "Now that we have the workflow ready, let's give ourselves a nice ui object with which we can interact. This is a IPython widget that will track the state of the workflow as it is executing/"
   ]
  },
  {
   "cell_type": "code",
   "execution_count": 5,
   "metadata": {
    "collapsed": false
   },
   "outputs": [],
   "source": [
    "import yadage_widget\n",
    "ui = yadage_widget.WorkflowWidget(wflow)\n",
    "ui"
   ]
  },
  {
   "cell_type": "markdown",
   "metadata": {},
   "source": [
    "One option is to run the workflow in *headless mode*, without any manual intervention. This will schedule all workflow steps in the correct order. \n",
    "\n",
    "**Note**:\n",
    "\n",
    "If the docker images to the necessary software needed for the workflow execution are not found locally, yadage will automatically pull the docker images before executing the steps. On the first run, this may slow down the execution of the workflow a little bit depending on the size of the necessary software and its dependencies. Any subsequent runs will be much faster. "
   ]
  },
  {
   "cell_type": "code",
   "execution_count": 8,
   "metadata": {
    "collapsed": false
   },
   "outputs": [],
   "source": [
    "from adage import rundag\n",
    "rundag(wflow,\n",
    "       update_interval = 1,\n",
    "       backend = backend,\n",
    "       additional_trackers=[ui.adagetracker]\n",
    ")"
   ]
  },
  {
   "cell_type": "markdown",
   "metadata": {},
   "source": [
    "We can also reset a part of the workflow and re-run the necessary steps (by re-executing the cell above)"
   ]
  },
  {
   "cell_type": "code",
   "execution_count": 7,
   "metadata": {
    "collapsed": false
   },
   "outputs": [],
   "source": [
    "ui.reset('madevent','/subchain/0')"
   ]
  },
  {
   "cell_type": "markdown",
   "metadata": {},
   "source": [
    "We can get access the results of workflows and subworkflows"
   ]
  },
  {
   "cell_type": "code",
   "execution_count": 9,
   "metadata": {
    "collapsed": false
   },
   "outputs": [
    {
     "data": {
      "text/plain": [
       "{'jsonlinesfile': '/Users/lukas/Code/demo/fromipython/merge/out.jsonl'}"
      ]
     },
     "execution_count": 9,
     "metadata": {},
     "output_type": "execute_result"
    }
   ],
   "source": [
    "wflow.view().getSteps('merge')[0].result"
   ]
  },
  {
   "cell_type": "markdown",
   "metadata": {},
   "source": [
    "Now we can use the software that is installed in the host (or docker image) running the notebook (this could e.g. be a service such as Binder or Everware) to further analyze the data. In this case we will plot a distribution of the high energy collisions generated by the workflow above."
   ]
  },
  {
   "cell_type": "code",
   "execution_count": 10,
   "metadata": {
    "collapsed": false
   },
   "outputs": [],
   "source": [
    "import json\n",
    "with open(wflow.view().getSteps('merge')[0].result['jsonlinesfile']) as f:\n",
    "    parsed = map(json.loads,f.readlines())"
   ]
  },
  {
   "cell_type": "code",
   "execution_count": 11,
   "metadata": {
    "collapsed": false
   },
   "outputs": [],
   "source": [
    "costhetas = []\n",
    "for e in parsed:\n",
    "    els = [p for p in e['particles'] if p['id'] == 11]\n",
    "    mus = [p for p in e['particles'] if p['id'] == 13]\n",
    "    assert len(mus) == 1\n",
    "    assert len(els) == 1\n",
    "    mu = mus[0]\n",
    "    el = els[0]\n",
    "    el_px, el_py, el_pz = [el[x] for x in ['px','py','pz']]\n",
    "    mu_px, mu_py, mu_pz = [mu[x] for x in ['px','py','pz']]\n",
    "    costheta = mu_pz/el_pz\n",
    "    costhetas.append(costheta)"
   ]
  },
  {
   "cell_type": "code",
   "execution_count": 12,
   "metadata": {
    "collapsed": false
   },
   "outputs": [
    {
     "name": "stderr",
     "output_type": "stream",
     "text": [
      "/usr/lib64/python2.7/site-packages/matplotlib/font_manager.py:273: UserWarning: Matplotlib is building the font cache using fc-list. This may take a moment.\n",
      "  warnings.warn('Matplotlib is building the font cache using fc-list. This may take a moment.')\n"
     ]
    }
   ],
   "source": [
    "%matplotlib inline\n",
    "import matplotlib.pyplot as plt"
   ]
  },
  {
   "cell_type": "code",
   "execution_count": 13,
   "metadata": {
    "collapsed": false
   },
   "outputs": [
    {
     "data": {
      "image/png": "[encoded data removed]",
      "text/plain": [
       "<matplotlib.figure.Figure at 0x4dbda50>"
      ]
     },
     "metadata": {},
     "output_type": "display_data"
    }
   ],
   "source": [
    "_,_,_ = plt.hist(costhetas, bins = 100, histtype='stepfilled')"
   ]
  },
  {
   "cell_type": "code",
   "execution_count": 14,
   "metadata": {
    "collapsed": false
   },
   "outputs": [
    {
     "name": "stdout",
     "output_type": "stream",
     "text": [
      "Voila!\n"
     ]
    }
   ],
   "source": [
    "print 'Voila!'"
   ]
  },
  {
   "cell_type": "code",
   "execution_count": null,
   "metadata": {
    "collapsed": true
   },
   "outputs": [],
   "source": []
  }
 ],
 "metadata": {
  "kernelspec": {
   "display_name": "Python 2",
   "language": "python",
   "name": "python2"
  },
  "language_info": {
   "codemirror_mode": {
    "name": "ipython",
    "version": 2
   },
   "file_extension": ".py",
   "mimetype": "text/x-python",
   "name": "python",
   "nbconvert_exporter": "python",
   "pygments_lexer": "ipython2",
   "version": "2.7.5"
  },
  "widgets": {
   "state": {
    "276e85ae219c4a79bd968c222ed8b90a": {
     "views": [
      {
       "cell_index": 13
      }
     ]
    }
   },
   "version": "1.2.0"
  }
 },
 "nbformat": 4,
 "nbformat_minor": 1
}
