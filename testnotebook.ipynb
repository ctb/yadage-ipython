{
 "cells": [
  {
   "cell_type": "code",
   "execution_count": 1,
   "metadata": {
    "collapsed": false
   },
   "outputs": [
    {
     "data": {
      "text/plain": [
       "<module 'yadage_widget' from 'yadage_widget.pyc'>"
      ]
     },
     "execution_count": 1,
     "metadata": {},
     "output_type": "execute_result"
    }
   ],
   "source": [
    "import yadage_widget\n",
    "reload(yadage_widget)"
   ]
  },
  {
   "cell_type": "code",
   "execution_count": 20,
   "metadata": {
    "collapsed": false
   },
   "outputs": [
    {
     "data": {
      "application/javascript": [
       "require.undef('yadage');\n",
       "require.config({paths: {lukasvis: \"http://cdnjs.cloudflare.com/ajax/libs/vis/4.17.0/vis\"}});\n",
       "define('yadage', [\"jupyter-js-widgets\",\"lukasvis\"], function(widgets,vis) {\n",
       "\n",
       "    var WorkflowWidgetView = widgets.DOMWidgetView.extend({\n",
       "\n",
       "        render: function() {\n",
       "            this.value_changed();\n",
       "            this.model.on('change:dotstring', this.value_changed, this);\n",
       "        },\n",
       "\n",
       "\n",
       "        value_changed: function() {\n",
       "            var data = this.model.get('dotstring');\n",
       "            this.el.innerHTML = ''\n",
       "            this.container = document.createElement('div');\n",
       "            this.container.innerHTML = 'hello'\n",
       "            this.el.appendChild(this.container);\n",
       "            this.container.style.height=\"500px\";\n",
       "            this.container.style.width=\"500px\";\n",
       "            var DOTstring = data;\n",
       "            console.log('hello')\n",
       "            console.log(DOTstring)\n",
       "            console.log('done')\n",
       "            console.log(data)\n",
       "            console.log('done2')\n",
       "            var parsedData = vis.network.convertDot(DOTstring);\n",
       "            this.netdata = {\n",
       "              nodes: parsedData.nodes,\n",
       "              edges: parsedData.edges\n",
       "            }\n",
       "            this.net_options = parsedData.options;\n",
       "            this.network = new vis.Network(this.container, this.netdata, this.net_options);\n",
       "            console.log(this.netdata.nodes)\n",
       "        },\n",
       "    });\n",
       "\n",
       "    return {\n",
       "        WorkflowWidgetView : WorkflowWidgetView\n",
       "    };\n",
       "});"
      ],
      "text/plain": [
       "<IPython.core.display.Javascript object>"
      ]
     },
     "metadata": {},
     "output_type": "display_data"
    }
   ],
   "source": [
    "%%javascript\n",
    "require.undef('yadage');\n",
    "require.config({paths: {lukasvis: \"http://cdnjs.cloudflare.com/ajax/libs/vis/4.17.0/vis\"}});\n",
    "define('yadage', [\"jupyter-js-widgets\",\"lukasvis\"], function(widgets,vis) {\n",
    "\n",
    "    var WorkflowWidgetView = widgets.DOMWidgetView.extend({\n",
    "\n",
    "        render: function() {\n",
    "            this.value_changed();\n",
    "            this.model.on('change:dotstring', this.value_changed, this);\n",
    "        },\n",
    "\n",
    "\n",
    "        value_changed: function() {\n",
    "            var data = this.model.get('dotstring');\n",
    "            this.el.innerHTML = ''\n",
    "            this.container = document.createElement('div');\n",
    "            this.container.innerHTML = 'hello'\n",
    "            this.el.appendChild(this.container);\n",
    "            this.container.style.height=\"500px\";\n",
    "            this.container.style.width=\"500px\";\n",
    "            var DOTstring = data;\n",
    "            console.log('hello')\n",
    "            console.log(DOTstring)\n",
    "            console.log('done')\n",
    "            console.log(data)\n",
    "            console.log('done2')\n",
    "            var parsedData = vis.network.convertDot(DOTstring);\n",
    "            this.netdata = {\n",
    "              nodes: parsedData.nodes,\n",
    "              edges: parsedData.edges\n",
    "            }\n",
    "            this.net_options = parsedData.options;\n",
    "            this.network = new vis.Network(this.container, this.netdata, this.net_options);\n",
    "            console.log(this.netdata.nodes)\n",
    "        },\n",
    "    });\n",
    "\n",
    "    return {\n",
    "        WorkflowWidgetView : WorkflowWidgetView\n",
    "    };\n",
    "});"
   ]
  },
  {
   "cell_type": "code",
   "execution_count": 21,
   "metadata": {
    "collapsed": false
   },
   "outputs": [],
   "source": [
    "w = yadage_widget.WorkflowWidget()\n",
    "w"
   ]
  },
  {
   "cell_type": "code",
   "execution_count": 22,
   "metadata": {
    "collapsed": true
   },
   "outputs": [],
   "source": [
    "import yadage.helpers"
   ]
  },
  {
   "cell_type": "code",
   "execution_count": 23,
   "metadata": {
    "collapsed": true
   },
   "outputs": [],
   "source": [
    "import adage.visualize\n",
    "import time\n",
    "class ViewTracker(object):\n",
    "    def __init__(self,widget):\n",
    "        self.widget = widget\n",
    "    def initialize(self,adageobj):\n",
    "        pass\n",
    "    def track(self,adageobj):\n",
    "        self.widget.dotstring = adage.visualize.colorize_graph_at_time(adageobj.dag,time.time()).to_string() \n",
    "    def finalize(self,adageobj):\n",
    "        self.widget.dotstring = adage.visualize.colorize_graph_at_time(adageobj.dag,time.time()).to_string() "
   ]
  },
  {
   "cell_type": "code",
   "execution_count": 24,
   "metadata": {
    "collapsed": false
   },
   "outputs": [],
   "source": [
    "from yadage.yadagemodels import YadageWorkflow\n",
    "from yadage.workflow_loader import workflow\n",
    "from packtivity.statecontexts import poxisfs_context as statecontext\n",
    "from adage import rundag\n",
    "from yadage.clihelpers import setupbackend_fromstring\n",
    "import shutil\n",
    "\n",
    "workdir = 'fromipython'\n",
    "try:\n",
    "    shutil.rmtree(workdir)\n",
    "except OSError:\n",
    "    pass\n",
    "wflowspec = workflow('madgraph_delphes.yml','from-github/phenochain')\n",
    "rootcontext = statecontext.make_new_context(workdir)\n",
    "wflow = YadageWorkflow.createFromJSON(wflowspec,rootcontext)\n",
    "\n",
    "wflow.view().init({'nevents':100})\n",
    "backend = setupbackend_fromstring('multiproc:4')\n",
    "rundag(wflow, update_interval = 5, backend = backend, default_trackers=False, additional_trackers=[ViewTracker(w)])\n"
   ]
  },
  {
   "cell_type": "code",
   "execution_count": null,
   "metadata": {
    "collapsed": true
   },
   "outputs": [],
   "source": []
  }
 ],
 "metadata": {
  "kernelspec": {
   "display_name": "Python 2",
   "language": "python",
   "name": "python2"
  },
  "language_info": {
   "codemirror_mode": {
    "name": "ipython",
    "version": 2
   },
   "file_extension": ".py",
   "mimetype": "text/x-python",
   "name": "python",
   "nbconvert_exporter": "python",
   "pygments_lexer": "ipython2",
   "version": "2.7.10"
  },
  "widgets": {
   "state": {
    "df66939773274eb89a6b8f562100a5ca": {
     "views": [
      {
       "cell_index": 2
      }
     ]
    }
   },
   "version": "1.2.0"
  }
 },
 "nbformat": 4,
 "nbformat_minor": 1
}
