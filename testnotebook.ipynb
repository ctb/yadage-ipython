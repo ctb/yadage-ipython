{
 "cells": [
  {
   "cell_type": "code",
   "execution_count": 1,
   "metadata": {
    "collapsed": false
   },
   "outputs": [
    {
     "data": {
      "application/javascript": [
       "//load javascript extension for yadage widget\n",
       "require.config({paths: {\n",
       "        vis: \"http://cdnjs.cloudflare.com/ajax/libs/vis/4.17.0/vis\",\n",
       "        yadage: \"https://rawgit.com/lukasheinrich/yadage-ipython/master/yadagealpha\"\n",
       "    }\n",
       "});"
      ],
      "text/plain": [
       "<IPython.core.display.Javascript object>"
      ]
     },
     "metadata": {},
     "output_type": "display_data"
    }
   ],
   "source": [
    "%%javascript\n",
    "//load javascript extension for yadage widget\n",
    "require.config({paths: {\n",
    "        vis: \"http://cdnjs.cloudflare.com/ajax/libs/vis/4.17.0/vis\",\n",
    "        yadage: \"https://rawgit.com/lukasheinrich/yadage-ipython/master/yadagealpha\"\n",
    "    }\n",
    "});"
   ]
  },
  {
   "cell_type": "code",
   "execution_count": 8,
   "metadata": {
    "collapsed": false
   },
   "outputs": [],
   "source": [
    "import shutil\n",
    "from packtivity.statecontexts import poxisfs_context as statecontext\n",
    "from yadage.yadagemodels import YadageWorkflow\n",
    "from yadage.workflow_loader import workflow\n",
    "from yadage.clihelpers import setupbackend_fromstring\n",
    "import logging\n",
    "logging.basicConfig()\n",
    "\n",
    "#clean up work directory\n",
    "workdir = 'fromipython'\n",
    "try:\n",
    "    shutil.rmtree(workdir)\n",
    "except OSError:\n",
    "    pass\n",
    "\n",
    "\n",
    "#load workflow \n",
    "wflowspec = workflow('madgraph_delphes.yml','from-github/phenochain')\n",
    "rootcontext = statecontext.make_new_context(workdir)\n",
    "wflow = YadageWorkflow.createFromJSON(wflowspec,rootcontext)\n",
    "\n",
    "\n",
    "#initialize workflow with parameters\n",
    "wflow.view().init({'nevents':100})\n",
    "\n",
    "\n",
    "#set up a backend that we will use\n",
    "backend = setupbackend_fromstring('multiproc:4')"
   ]
  },
  {
   "cell_type": "code",
   "execution_count": 9,
   "metadata": {
    "collapsed": false
   },
   "outputs": [],
   "source": [
    "#prepare a widget to track the workflow in real time as it is executing\n",
    "import yadage_widget\n",
    "w = yadage_widget.WorkflowWidget()\n",
    "w"
   ]
  },
  {
   "cell_type": "code",
   "execution_count": 10,
   "metadata": {
    "collapsed": false
   },
   "outputs": [],
   "source": [
    "#run the workflow\n",
    "from adage import rundag\n",
    "rundag(wflow, update_interval = 5, backend = backend, default_trackers=False, additional_trackers=[yadage_widget.ViewTracker(w)])"
   ]
  },
  {
   "cell_type": "code",
   "execution_count": null,
   "metadata": {
    "collapsed": true
   },
   "outputs": [],
   "source": []
  }
 ],
 "metadata": {
  "kernelspec": {
   "display_name": "Python 2",
   "language": "python",
   "name": "python2"
  },
  "language_info": {
   "codemirror_mode": {
    "name": "ipython",
    "version": 2
   },
   "file_extension": ".py",
   "mimetype": "text/x-python",
   "name": "python",
   "nbconvert_exporter": "python",
   "pygments_lexer": "ipython2",
   "version": "2.7.10"
  },
  "widgets": {
   "state": {
    "cbc54c6053d740148c0be4ab9a59e987": {
     "views": [
      {
       "cell_index": 2
      }
     ]
    }
   },
   "version": "1.2.0"
  }
 },
 "nbformat": 4,
 "nbformat_minor": 1
}
